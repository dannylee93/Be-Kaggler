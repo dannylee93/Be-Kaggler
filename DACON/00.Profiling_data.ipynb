{
 "cells": [
  {
   "cell_type": "code",
   "execution_count": null,
   "metadata": {},
   "outputs": [],
   "source": [
    "## 판다스 프로파일링 모듈 설치\n",
    "# ! pip install -U pandas-profiling"
   ]
  },
  {
   "cell_type": "code",
   "execution_count": null,
   "metadata": {},
   "outputs": [],
   "source": [
    "# 프로파일링 코드\n",
    "import pandas as pd\n",
    "import pandas_profiling\n",
    "\n",
    "df = pd.read_csv('train_x_0.2_99.8.csv', encoding='utf-8')\n",
    "\n",
    "df_copied = df.copy()\n",
    "\n",
    "try:\n",
    "    del(df_copied['type'])\n",
    "except:\n",
    "    pass"
   ]
  },
  {
   "cell_type": "code",
   "execution_count": null,
   "metadata": {},
   "outputs": [],
   "source": [
    "# 프로파일링 데이터 저장\n",
    "profile=df.profile_report() \n",
    "profile.to_file('./pr_report_train.html') "
   ]
  }
 ],
 "metadata": {
  "kernelspec": {
   "display_name": "Python 3",
   "language": "python",
   "name": "python3"
  },
  "language_info": {
   "codemirror_mode": {
    "name": "ipython",
    "version": 3
   },
   "file_extension": ".py",
   "mimetype": "text/x-python",
   "name": "python",
   "nbconvert_exporter": "python",
   "pygments_lexer": "ipython3",
   "version": "3.7.4"
  }
 },
 "nbformat": 4,
 "nbformat_minor": 2
}
